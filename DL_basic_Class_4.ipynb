{
  "nbformat": 4,
  "nbformat_minor": 0,
  "metadata": {
    "colab": {
      "name": "DL_basic_Class-4.ipynb",
      "provenance": [],
      "collapsed_sections": [],
      "toc_visible": true,
      "authorship_tag": "ABX9TyOHEvzxg7Uqsvsd0sT6YFzv",
      "include_colab_link": true
    },
    "kernelspec": {
      "name": "python3",
      "display_name": "Python 3"
    }
  },
  "cells": [
    {
      "cell_type": "markdown",
      "metadata": {
        "id": "view-in-github",
        "colab_type": "text"
      },
      "source": [
        "<a href=\"https://colab.research.google.com/github/Shambhavi-Gupta/DL_basic_Class-4/blob/master/DL_basic_Class_4.ipynb\" target=\"_parent\"><img src=\"https://colab.research.google.com/assets/colab-badge.svg\" alt=\"Open In Colab\"/></a>"
      ]
    },
    {
      "cell_type": "markdown",
      "metadata": {
        "id": "fO2ejeLW6XHV",
        "colab_type": "text"
      },
      "source": [
        "#**Python Classes**"
      ]
    },
    {
      "cell_type": "code",
      "metadata": {
        "id": "AvWDBDPR68h9",
        "colab_type": "code",
        "colab": {}
      },
      "source": [
        "class MobilePhone:\n",
        "    \"\"\"This is a sample class to illustrate how a python class works\"\"\"\n",
        "    def __init__(self , name , is_android = False , screen_size = 4.3):\n",
        "        self.name = name\n",
        "        self.is_android = is_android\n",
        "        self.screen_size = screen_size \n",
        "        self.rating = -1\n",
        "    def has_rating(self):\n",
        "        return self.rating > -1   "
      ],
      "execution_count": null,
      "outputs": []
    },
    {
      "cell_type": "code",
      "metadata": {
        "id": "XpDWTLMd81ga",
        "colab_type": "code",
        "colab": {}
      },
      "source": [
        "new_phone = MobilePhone('iPhone 5s')"
      ],
      "execution_count": null,
      "outputs": []
    },
    {
      "cell_type": "code",
      "metadata": {
        "id": "cQeM8FlS870F",
        "colab_type": "code",
        "colab": {
          "base_uri": "https://localhost:8080/",
          "height": 34
        },
        "outputId": "161a39a2-82a4-4300-ede1-a3d86ea64468"
      },
      "source": [
        "type(new_phone)"
      ],
      "execution_count": null,
      "outputs": [
        {
          "output_type": "execute_result",
          "data": {
            "text/plain": [
              "__main__.MobilePhone"
            ]
          },
          "metadata": {
            "tags": []
          },
          "execution_count": 11
        }
      ]
    },
    {
      "cell_type": "code",
      "metadata": {
        "id": "1TbvWTLD9BKe",
        "colab_type": "code",
        "colab": {
          "base_uri": "https://localhost:8080/",
          "height": 34
        },
        "outputId": "88dd6533-d685-4401-c587-b386ace4b2b3"
      },
      "source": [
        "print(new_phone.name , new_phone.is_android , new_phone.screen_size)"
      ],
      "execution_count": null,
      "outputs": [
        {
          "output_type": "stream",
          "text": [
            "iPhone 5s False 4.3\n"
          ],
          "name": "stdout"
        }
      ]
    },
    {
      "cell_type": "code",
      "metadata": {
        "id": "2cWFVSqa-l36",
        "colab_type": "code",
        "colab": {}
      },
      "source": [
        "new_phone.screen_size = 4"
      ],
      "execution_count": null,
      "outputs": []
    },
    {
      "cell_type": "code",
      "metadata": {
        "id": "GFPZTKIR-ucw",
        "colab_type": "code",
        "colab": {
          "base_uri": "https://localhost:8080/",
          "height": 34
        },
        "outputId": "4b3b0899-4483-4e24-db22-aa7a03117601"
      },
      "source": [
        "print(new_phone.name , new_phone.is_android , new_phone.screen_size)"
      ],
      "execution_count": null,
      "outputs": [
        {
          "output_type": "stream",
          "text": [
            "iPhone 5s False 4\n"
          ],
          "name": "stdout"
        }
      ]
    },
    {
      "cell_type": "code",
      "metadata": {
        "id": "wQ8GOJnD-wlE",
        "colab_type": "code",
        "colab": {
          "base_uri": "https://localhost:8080/",
          "height": 34
        },
        "outputId": "9d7e37af-64e6-4470-abdd-e991218be2d1"
      },
      "source": [
        "new_phone.has_rating()"
      ],
      "execution_count": null,
      "outputs": [
        {
          "output_type": "execute_result",
          "data": {
            "text/plain": [
              "False"
            ]
          },
          "metadata": {
            "tags": []
          },
          "execution_count": 20
        }
      ]
    },
    {
      "cell_type": "code",
      "metadata": {
        "id": "ZLJE28rl_fcn",
        "colab_type": "code",
        "colab": {}
      },
      "source": [
        "new_phone.rating = 3.9"
      ],
      "execution_count": null,
      "outputs": []
    },
    {
      "cell_type": "code",
      "metadata": {
        "id": "y7pf6FRF_pEd",
        "colab_type": "code",
        "colab": {
          "base_uri": "https://localhost:8080/",
          "height": 34
        },
        "outputId": "3e474584-a1db-43fc-ca4f-d771b59d477f"
      },
      "source": [
        "new_phone.has_rating()"
      ],
      "execution_count": null,
      "outputs": [
        {
          "output_type": "execute_result",
          "data": {
            "text/plain": [
              "True"
            ]
          },
          "metadata": {
            "tags": []
          },
          "execution_count": 22
        }
      ]
    },
    {
      "cell_type": "code",
      "metadata": {
        "id": "CreOCB-n_q65",
        "colab_type": "code",
        "colab": {
          "base_uri": "https://localhost:8080/",
          "height": 34
        },
        "outputId": "dbc94acd-784d-4832-ef4c-e29b45a3b9e0"
      },
      "source": [
        "MobilePhone.__doc__"
      ],
      "execution_count": null,
      "outputs": [
        {
          "output_type": "execute_result",
          "data": {
            "text/plain": [
              "'This is a sample class to illustrate how a python class works'"
            ]
          },
          "metadata": {
            "tags": []
          },
          "execution_count": 26
        }
      ]
    },
    {
      "cell_type": "code",
      "metadata": {
        "id": "a_leooe8AM38",
        "colab_type": "code",
        "colab": {}
      },
      "source": [
        "class iPhone(MobilePhone):\n",
        "    def __init__(self , name):\n",
        "        MobilePhone.__init__(self , name , False , 4)\n",
        "    def __str__(self):\n",
        "        return self.name + \" \" + str(self.is_android) + \" \" + str(self.screen_size)    "
      ],
      "execution_count": null,
      "outputs": []
    },
    {
      "cell_type": "code",
      "metadata": {
        "id": "Y7F86_qGAyri",
        "colab_type": "code",
        "colab": {}
      },
      "source": [
        "new_iphone = iPhone('iPhone 5s')"
      ],
      "execution_count": null,
      "outputs": []
    },
    {
      "cell_type": "code",
      "metadata": {
        "id": "CmaiW_9OA9A7",
        "colab_type": "code",
        "colab": {
          "base_uri": "https://localhost:8080/",
          "height": 34
        },
        "outputId": "d0dca044-e944-4d07-f7e7-4808e8cd8aad"
      },
      "source": [
        "new_iphone.is_android"
      ],
      "execution_count": null,
      "outputs": [
        {
          "output_type": "execute_result",
          "data": {
            "text/plain": [
              "False"
            ]
          },
          "metadata": {
            "tags": []
          },
          "execution_count": 34
        }
      ]
    },
    {
      "cell_type": "code",
      "metadata": {
        "id": "1h9ZILCZBaTm",
        "colab_type": "code",
        "colab": {
          "base_uri": "https://localhost:8080/",
          "height": 34
        },
        "outputId": "db0804c0-a6e2-4363-dbd0-ad58437a93dd"
      },
      "source": [
        "print(new_iphone)"
      ],
      "execution_count": null,
      "outputs": [
        {
          "output_type": "stream",
          "text": [
            "iPhone 5s False 4\n"
          ],
          "name": "stdout"
        }
      ]
    },
    {
      "cell_type": "code",
      "metadata": {
        "id": "Ul3vKljGCab3",
        "colab_type": "code",
        "colab": {}
      },
      "source": [
        ""
      ],
      "execution_count": null,
      "outputs": []
    }
  ]
}